{
 "cells": [
  {
   "cell_type": "code",
   "execution_count": 1,
   "metadata": {},
   "outputs": [
    {
     "name": "stdout",
     "output_type": "stream",
     "text": [
      "['LotFrontage', 'Alley', 'MasVnrType', 'MasVnrArea', 'BsmtQual', 'BsmtCond', 'BsmtExposure', 'BsmtFinType1', 'BsmtFinType2', 'Electrical', 'FireplaceQu', 'GarageType', 'GarageYrBlt', 'GarageFinish', 'GarageQual', 'GarageCond', 'PoolQC', 'Fence', 'MiscFeature']\n",
      "['MSZoning', 'Street', 'Alley', 'LotShape', 'LandContour', 'Utilities', 'LotConfig', 'LandSlope', 'Neighborhood', 'Condition1', 'Condition2', 'BldgType', 'HouseStyle', 'RoofStyle', 'RoofMatl', 'Exterior1st', 'Exterior2nd', 'MasVnrType', 'ExterQual', 'ExterCond', 'Foundation', 'BsmtQual', 'BsmtCond', 'BsmtExposure', 'BsmtFinType1', 'BsmtFinType2', 'Heating', 'HeatingQC', 'CentralAir', 'Electrical', 'KitchenQual', 'Functional', 'FireplaceQu', 'GarageType', 'GarageFinish', 'GarageQual', 'GarageCond', 'PavedDrive', 'PoolQC', 'Fence', 'MiscFeature', 'SaleType', 'SaleCondition']\n"
     ]
    },
    {
     "data": {
      "text/plain": [
       "Index(['Id', 'MSSubClass', 'MSZoning', 'LotFrontage', 'LotArea', 'Street',\n",
       "       'Alley', 'LotShape', 'LandContour', 'Utilities', 'LotConfig',\n",
       "       'LandSlope', 'Neighborhood', 'Condition1', 'Condition2', 'BldgType',\n",
       "       'HouseStyle', 'OverallQual', 'OverallCond', 'YearBuilt', 'YearRemodAdd',\n",
       "       'RoofStyle', 'RoofMatl', 'Exterior1st', 'Exterior2nd', 'MasVnrType',\n",
       "       'MasVnrArea', 'ExterQual', 'ExterCond', 'Foundation', 'BsmtQual',\n",
       "       'BsmtCond', 'BsmtExposure', 'BsmtFinType1', 'BsmtFinSF1',\n",
       "       'BsmtFinType2', 'BsmtFinSF2', 'BsmtUnfSF', 'TotalBsmtSF', 'Heating',\n",
       "       'HeatingQC', 'CentralAir', 'Electrical', '1stFlrSF', '2ndFlrSF',\n",
       "       'LowQualFinSF', 'GrLivArea', 'BsmtFullBath', 'BsmtHalfBath', 'FullBath',\n",
       "       'HalfBath', 'BedroomAbvGr', 'KitchenAbvGr', 'KitchenQual',\n",
       "       'TotRmsAbvGrd', 'Functional', 'Fireplaces', 'FireplaceQu', 'GarageType',\n",
       "       'GarageYrBlt', 'GarageFinish', 'GarageCars', 'GarageArea', 'GarageQual',\n",
       "       'GarageCond', 'PavedDrive', 'WoodDeckSF', 'OpenPorchSF',\n",
       "       'EnclosedPorch', '3SsnPorch', 'ScreenPorch', 'PoolArea', 'PoolQC',\n",
       "       'Fence', 'MiscFeature', 'MiscVal', 'MoSold', 'YrSold', 'SaleType',\n",
       "       'SaleCondition', 'SalePrice'],\n",
       "      dtype='object')"
      ]
     },
     "execution_count": 1,
     "metadata": {},
     "output_type": "execute_result"
    }
   ],
   "source": [
    "from sklearn.preprocessing import OneHotEncoder\n",
    "from sklearn.preprocessing import LabelEncoder\n",
    "from sklearn.ensemble import RandomForestRegressor\n",
    "from sklearn.metrics import mean_absolute_error\n",
    "import pandas as pd\n",
    "from sklearn.model_selection import train_test_split\n",
    "import numpy as np\n",
    "import matplotlib.pyplot as plt\n",
    "\n",
    "### the dataset comes from Kaggle competition - https://www.kaggle.com/c/house-prices-advanced-regression-techniques/data\n",
    "df = pd.read_csv('C:/Users/Michael/Downloads/python practice/house-prices-advanced-regression-techniques/train.csv')\n",
    "\n",
    "## which columns are missing data?\n",
    "## which columns have categorical data?\n",
    "cols_with_missing = [col for col in df.columns if df[col].isnull().any()]\n",
    "print(cols_with_missing)\n",
    "categorical_col = [col for col in df.columns if df[col].dtypes == object]\n",
    "print(categorical_col)\n",
    "\n",
    "df.head()\n",
    "df.columns\n"
   ]
  },
  {
   "cell_type": "code",
   "execution_count": 2,
   "metadata": {},
   "outputs": [
    {
     "data": {
      "image/png": "[encoded data removed]",
      "text/plain": [
       "<Figure size 432x288 with 1 Axes>"
      ]
     },
     "metadata": {
      "needs_background": "light"
     },
     "output_type": "display_data"
    },
    {
     "data": {
      "text/plain": [
       "SalePrice        1.000000\n",
       "OverallQual      0.790982\n",
       "GrLivArea        0.708624\n",
       "GarageCars       0.640409\n",
       "GarageArea       0.623431\n",
       "TotalBsmtSF      0.613581\n",
       "1stFlrSF         0.605852\n",
       "FullBath         0.560664\n",
       "TotRmsAbvGrd     0.533723\n",
       "YearBuilt        0.522897\n",
       "YearRemodAdd     0.507101\n",
       "GarageYrBlt      0.486362\n",
       "MasVnrArea       0.477493\n",
       "Fireplaces       0.466929\n",
       "BsmtFinSF1       0.386420\n",
       "LotFrontage      0.351799\n",
       "WoodDeckSF       0.324413\n",
       "2ndFlrSF         0.319334\n",
       "OpenPorchSF      0.315856\n",
       "HalfBath         0.284108\n",
       "LotArea          0.263843\n",
       "BsmtFullBath     0.227122\n",
       "BsmtUnfSF        0.214479\n",
       "BedroomAbvGr     0.168213\n",
       "ScreenPorch      0.111447\n",
       "PoolArea         0.092404\n",
       "MoSold           0.046432\n",
       "3SsnPorch        0.044584\n",
       "BsmtFinSF2      -0.011378\n",
       "BsmtHalfBath    -0.016844\n",
       "MiscVal         -0.021190\n",
       "Id              -0.021917\n",
       "LowQualFinSF    -0.025606\n",
       "YrSold          -0.028923\n",
       "OverallCond     -0.077856\n",
       "MSSubClass      -0.084284\n",
       "EnclosedPorch   -0.128578\n",
       "KitchenAbvGr    -0.135907\n",
       "Name: SalePrice, dtype: float64"
      ]
     },
     "execution_count": 2,
     "metadata": {},
     "output_type": "execute_result"
    }
   ],
   "source": [
    "#exploratory analysis\n",
    "## scatter plot to see correlation\n",
    "plt.scatter(df.OverallQual, df.SalePrice)\n",
    "plt.show()\n",
    "## let's look at correlation between Sales Price(Y) and other variables(x1,x2,x3...)\n",
    "df.corr().SalePrice.sort_values(ascending = False)\n"
   ]
  },
  {
   "cell_type": "code",
   "execution_count": 4,
   "metadata": {},
   "outputs": [
    {
     "name": "stdout",
     "output_type": "stream",
     "text": [
      "(1095, 37)\n",
      "(365, 37)\n"
     ]
    }
   ],
   "source": [
    "#Let's impute numerical variables using simple imputer - I used mean as the imputed value \n",
    "from sklearn.impute import SimpleImputer\n",
    "\n",
    "numerical =  df.copy()\n",
    "numerical = numerical.select_dtypes(exclude =['object'])\n",
    "numerical_y = numerical['SalePrice']\n",
    "numerical =numerical.drop(columns = ['SalePrice']) \n",
    "train_x,test_x,train_y,test_y = train_test_split(numerical,numerical_y, random_state = 0)\n",
    "mean_imputer = SimpleImputer(strategy = 'mean')\n",
    "train_x_imp = pd.DataFrame(mean_imputer.fit_transform(train_x))\n",
    "test_x_imp = pd.DataFrame(mean_imputer.transform(test_x))\n",
    "train_x_imp.columns = train_x.columns\n",
    "test_x_imp.columns = test_x.columns\n",
    "\n",
    "print(train_x_imp.shape)\n",
    "print(test_x_imp.shape)"
   ]
  },
  {
   "cell_type": "code",
   "execution_count": 8,
   "metadata": {},
   "outputs": [
    {
     "name": "stdout",
     "output_type": "stream",
     "text": [
      "0.8448748014314907\n",
      "0.6800672250178981\n"
     ]
    },
    {
     "data": {
      "text/plain": [
       "22690.735534269348"
      ]
     },
     "execution_count": 8,
     "metadata": {},
     "output_type": "execute_result"
    }
   ],
   "source": [
    "# using linear regression model for prediction\n",
    "\n",
    "from sklearn.linear_model import LinearRegression\n",
    "lin_model = LinearRegression()\n",
    "lin_model.fit(train_x_imp,train_y)\n",
    "print(lin_model.score(train_x_imp,train_y))\n",
    "#score is 0.84\n",
    "print(lin_model.score(test_x_imp,test_y))\n",
    "#score is 0.6874296721301451\n",
    "pred_y = lin_model.predict(test_x_imp)\n",
    "mean_absolute_error(test_y, pred_y)\n",
    "#22690.23412953934\n"
   ]
  },
  {
   "cell_type": "code",
   "execution_count": 10,
   "metadata": {},
   "outputs": [
    {
     "name": "stdout",
     "output_type": "stream",
     "text": [
      "0.9790310446117856\n",
      "0.8490688358695646\n"
     ]
    },
    {
     "data": {
      "text/plain": [
       "17453.6711369863"
      ]
     },
     "execution_count": 10,
     "metadata": {},
     "output_type": "execute_result"
    }
   ],
   "source": [
    "# Random Forrest yeilds much better result. Thus I will be using this model going forward \n",
    "rand_forrest = RandomForestRegressor(n_estimators = 200)\n",
    "rand_forrest.fit(train_x_imp,train_y)\n",
    "print(rand_forrest.score(train_x_imp,train_y))\n",
    "# score is 0.978\n",
    "print(rand_forrest.score(test_x_imp,test_y))\n",
    "#score is 0.8463\n",
    "forest_pred_y = rand_forrest.predict(test_x_imp)\n",
    "mean_absolute_error(test_y, forest_pred_y)\n",
    "#17584.46 "
   ]
  },
  {
   "cell_type": "code",
   "execution_count": 11,
   "metadata": {},
   "outputs": [
    {
     "data": {
      "text/plain": [
       "ExterQual      0\n",
       "HeatingQC      0\n",
       "ExterCond      0\n",
       "BsmtQual       0\n",
       "BsmtCond       0\n",
       "KitchenQual    0\n",
       "GarageCond     0\n",
       "GarageQual     0\n",
       "dtype: int64"
      ]
     },
     "execution_count": 11,
     "metadata": {},
     "output_type": "execute_result"
    }
   ],
   "source": [
    "#label encoding the cardinal columns\n",
    "\n",
    "##I first replaced NaNs with \"NA\", and then label encoded the values. \n",
    "## I did not use simple imputer here. Python showed me an error which said that there were values in the test set that wasnt present in the train set\n",
    "## Thus I just mapped the values that needed to be changed.\n",
    "\n",
    "from sklearn.preprocessing import LabelEncoder\n",
    "labeled_column = ['ExterQual','HeatingQC','ExterCond','BsmtQual','BsmtCond','KitchenQual','GarageCond','GarageQual']\n",
    "\n",
    "label = df.copy()\n",
    "label = label[labeled_column]\n",
    "label.isna().sum()\n",
    "### it seems like there are nans in the dataset, let's fix that \n",
    "label = label.replace(np.nan,\"NA\",regex=True)\n",
    "mapping = {\"NA\":0,\"Po\":1,\"Fa\":2,\"TA\":3,\"Gd\":4,\"Ex\":5}\n",
    "label = label.replace(mapping, regex=True)\n",
    "\n",
    "train_x_labels,test_x_labels = train_test_split(label, random_state = 0)\n",
    "\n",
    "# print(train_x_labels)\n",
    "# print(test_x_labels)\n",
    "train_x_labels.isna().sum()"
   ]
  },
  {
   "cell_type": "code",
   "execution_count": 16,
   "metadata": {},
   "outputs": [
    {
     "name": "stdout",
     "output_type": "stream",
     "text": [
      "0.9794129486301454\n",
      "0.8535401439416053\n",
      "17221.158835616436\n"
     ]
    }
   ],
   "source": [
    "#Let's concat the two dataset so that we have (Numerica + Labeled) Data. Then, let's try using the randomforrest regressor\n",
    "\n",
    "train_X = pd.concat([train_x_imp.reset_index(), train_x_labels.reset_index()], axis =1)\n",
    "test_X = pd.concat([test_x_imp.reset_index(), test_x_labels.reset_index()], axis =1)\n",
    "\n",
    "rand_forrest.fit(train_X,train_y)\n",
    "print(rand_forrest.score(train_X,train_y))\n",
    "#score is 0.98\n",
    "print(rand_forrest.score(test_X,test_y))\n",
    "#score is 0.85\n",
    "pred_y_num_lab = rand_forrest.predict(test_X)\n",
    "print(mean_absolute_error(test_y, pred_y_num_lab))\n",
    "##### error is about 17213. "
   ]
  },
  {
   "cell_type": "code",
   "execution_count": 17,
   "metadata": {},
   "outputs": [
    {
     "name": "stdout",
     "output_type": "stream",
     "text": [
      "(1095, 23)\n",
      "(365, 23)\n"
     ]
    }
   ],
   "source": [
    "#one-hot encoding the categorical columns\n",
    "transform_columns = ['Utilities','Condition1','Condition2','BldgType','CentralAir']#,'Neighborhood']#,'SaleType'] -> these variables surprisingly increased error\n",
    "df3 = df.copy()\n",
    "df3 = df3[transform_columns]\n",
    "df3 = df3.replace(np.nan,\"NA\",regex=True)\n",
    "df3.isnull().sum() #check for missing variables\n",
    "\n",
    "OH_encoder = OneHotEncoder(handle_unknown = 'ignore', sparse = False)\n",
    "\n",
    "train_x_oh,test_x_oh = train_test_split(df3, random_state = 0)\n",
    "train_x_OH = pd.DataFrame(OH_encoder.fit_transform(train_x_oh))\n",
    "test_x_OH = pd.DataFrame(OH_encoder.transform(test_x_oh))\n",
    "train_x_OH.index =  train_x_oh.index\n",
    "test_x_OH.index = test_x_oh.index\n",
    "\n",
    "print(train_x_OH.shape)\n",
    "print(test_x_OH.shape)\n",
    "\n",
    "train_X = pd.concat([train_X.reset_index(), train_x_OH.reset_index()], axis =1)\n",
    "test_X = pd.concat([test_X.reset_index(), test_x_OH.reset_index()], axis =1)"
   ]
  },
  {
   "cell_type": "code",
   "execution_count": 18,
   "metadata": {},
   "outputs": [
    {
     "name": "stdout",
     "output_type": "stream",
     "text": [
      "0.9797943879618499\n",
      "0.8512027720177406\n",
      "17119.59617808219\n"
     ]
    }
   ],
   "source": [
    "rand_forrest.fit(train_X,train_y)\n",
    "print(rand_forrest.score(train_X,train_y))\n",
    "print(rand_forrest.score(test_X,test_y))\n",
    "#score is 0.8537365908978691\n",
    "pred_y_num_lab = rand_forrest.predict(test_X)\n",
    "print(mean_absolute_error(test_y, pred_y_num_lab))\n",
    "##### error is about 17119. "
   ]
  },
  {
   "cell_type": "code",
   "execution_count": 19,
   "metadata": {},
   "outputs": [],
   "source": [
    "##based on the correlation I saw above, I deleted columns which were irrelevant\n",
    "train_X =  train_X.drop(columns = ['index','BedroomAbvGr','ScreenPorch','PoolArea','MoSold','3SsnPorch','BsmtFinSF2','BsmtHalfBath','MiscVal','Id','LowQualFinSF','YrSold','OverallCond','MSSubClass','EnclosedPorch','KitchenAbvGr']) \n",
    "test_X =  test_X.drop(columns = ['index','BedroomAbvGr','ScreenPorch','PoolArea','MoSold','3SsnPorch','BsmtFinSF2','BsmtHalfBath','MiscVal','Id','LowQualFinSF','YrSold','OverallCond','MSSubClass','EnclosedPorch','KitchenAbvGr']) \n",
    "\n"
   ]
  },
  {
   "cell_type": "code",
   "execution_count": 24,
   "metadata": {},
   "outputs": [
    {
     "name": "stdout",
     "output_type": "stream",
     "text": [
      "0.9797437233127235\n",
      "0.8611347810214205\n",
      "17049.836904109587\n"
     ]
    }
   ],
   "source": [
    "#then, random forrest modelling\n",
    "rand_forrest2 = RandomForestRegressor(n_estimators = 1000)\n",
    "rand_forrest2.fit(train_X,train_y)\n",
    "print(rand_forrest2.score(train_X,train_y))\n",
    "print(rand_forrest2.score(test_X,test_y))\n",
    "#score is 0.8537365908978691\n",
    "pred_y_num_lab = rand_forrest2.predict(test_X)\n",
    "print(mean_absolute_error(test_y, pred_y_num_lab))\n",
    "## the error is about 17030, so 100 cut"
   ]
  },
  {
   "cell_type": "code",
   "execution_count": 25,
   "metadata": {},
   "outputs": [
    {
     "name": "stdout",
     "output_type": "stream",
     "text": [
      "0.990670022233447\n",
      "0.8409427637156476\n",
      "17068.37557791096\n"
     ]
    }
   ],
   "source": [
    "# Finally, let's use a different technique -XG Boosting \n",
    "from xgboost import XGBRegressor\n",
    "\n",
    "# remember that XGB needs every column to be unique - concat may give me duplicates of columns \n",
    "my_model = XGBRegressor(n_estimators = 1000, learning_rate = 0.01, n_jobs = 5)\n",
    "my_model.fit(train_X, train_y, early_stopping_rounds=5, eval_set=[(test_X,test_y)],verbose=False)\n",
    "print(my_model.score(train_X,train_y))\n",
    "#score is 0.99\n",
    "print(my_model.score(test_X,test_y))\n",
    "#score is 0.8347365908978691\n",
    "pred_y = my_model.predict(test_X)\n",
    "print(mean_absolute_error(test_y, pred_y))\n",
    "## the error is about 17070, so worse than the methods before"
   ]
  },
  {
   "cell_type": "code",
   "execution_count": 26,
   "metadata": {},
   "outputs": [],
   "source": [
    "### Let's submit the result to Kaggle \n",
    "test = pd.read_csv('C:/Users/Michael/Downloads/python practice/house-prices-advanced-regression-techniques/test.csv')\n"
   ]
  },
  {
   "cell_type": "code",
   "execution_count": 30,
   "metadata": {},
   "outputs": [],
   "source": [
    "#make numerical\n",
    "\n",
    "test_numerical =  test.copy()\n",
    "test_numerical = test_numerical.select_dtypes(exclude =['object'])\n",
    "test_numerical_imp = pd.DataFrame(mean_imputer.transform(test_numerical))\n",
    "test_numerical_imp.columns = test_numerical.columns"
   ]
  },
  {
   "cell_type": "code",
   "execution_count": 33,
   "metadata": {},
   "outputs": [
    {
     "data": {
      "text/plain": [
       "ExterQual      0\n",
       "HeatingQC      0\n",
       "ExterCond      0\n",
       "BsmtQual       0\n",
       "BsmtCond       0\n",
       "KitchenQual    0\n",
       "GarageCond     0\n",
       "GarageQual     0\n",
       "dtype: int64"
      ]
     },
     "execution_count": 33,
     "metadata": {},
     "output_type": "execute_result"
    }
   ],
   "source": [
    "#make labeled \n",
    "\n",
    "test1 =  test.copy()\n",
    "test_label = test1[labeled_column]\n",
    "\n",
    "test_label = test_label.replace(np.nan,\"NA\",regex=True)\n",
    "test_label = test_label.replace(mapping, regex=True)\n",
    "\n",
    "test_label.isna().sum()\n"
   ]
  },
  {
   "cell_type": "code",
   "execution_count": 35,
   "metadata": {},
   "outputs": [],
   "source": [
    "# make one-hot-encoded\n",
    "\n",
    "test2 = test.copy()\n",
    "test2 = test2[transform_columns]\n",
    "test2 = test2.replace(np.nan,\"NA\",regex=True)\n",
    "test2.isnull().sum() #check for missing variables\n",
    "\n",
    "test_OH = pd.DataFrame(OH_encoder.transform(test2))\n",
    "test_OH.index = test2.index\n"
   ]
  },
  {
   "cell_type": "code",
   "execution_count": 36,
   "metadata": {},
   "outputs": [],
   "source": [
    "# concat 3 sets of data, drop unnecessary columns \n",
    "test_1 = pd.concat([test_numerical_imp.reset_index(), test_label.reset_index()], axis =1)\n",
    "test_ready = pd.concat([test_1.reset_index(), test_OH.reset_index()], axis =1)\n",
    "test_ready =  test_ready.drop(columns = ['index','BedroomAbvGr','ScreenPorch','PoolArea','MoSold','3SsnPorch','BsmtFinSF2','BsmtHalfBath','MiscVal','Id','LowQualFinSF','YrSold','OverallCond','MSSubClass','EnclosedPorch','KitchenAbvGr']) \n"
   ]
  },
  {
   "cell_type": "code",
   "execution_count": 53,
   "metadata": {},
   "outputs": [],
   "source": [
    "prediction1 = rand_forrest2.predict(test_ready)\n",
    "prediction2 = my_model.predict(test_ready)\n",
    "\n",
    "\n",
    "prediction1 = pd.DataFrame({'Id': np.array(range(1461,2920)), 'SalePrice' : prediction1})\n",
    "prediction2 = pd.DataFrame({'Id': np.array(range(1461,2920)), 'SalePrice' : prediction2})\n",
    "\n",
    "#range(1461,2920)\n",
    "prediction1.to_csv('random_forrest_prediction.csv',index=False)\n",
    "prediction2.to_csv('XGRBosst_prediction.csv',index=False)\n",
    "       "
   ]
  },
  {
   "cell_type": "code",
   "execution_count": 40,
   "metadata": {},
   "outputs": [
    {
     "data": {
      "text/plain": [
       "array([127791.98, 146772.42, 185954.08, ..., 169546.45, 107949.76,\n",
       "       226375.22], dtype=float32)"
      ]
     },
     "execution_count": 40,
     "metadata": {},
     "output_type": "execute_result"
    }
   ],
   "source": [
    "prediction2"
   ]
  },
  {
   "cell_type": "markdown",
   "metadata": {},
   "source": [
    "#### XGBoost results in 0.14 RMS Logarithmic Error\n",
    "#### Random Forrest results in 0.15 RMS Logarithmic Error"
   ]
  },
  {
   "cell_type": "code",
   "execution_count": null,
   "metadata": {},
   "outputs": [],
   "source": []
  }
 ],
 "metadata": {
  "kernelspec": {
   "display_name": "Python 3",
   "language": "python",
   "name": "python3"
  },
  "language_info": {
   "codemirror_mode": {
    "name": "ipython",
    "version": 3
   },
   "file_extension": ".py",
   "mimetype": "text/x-python",
   "name": "python",
   "nbconvert_exporter": "python",
   "pygments_lexer": "ipython3",
   "version": "3.7.1"
  }
 },
 "nbformat": 4,
 "nbformat_minor": 2
}
