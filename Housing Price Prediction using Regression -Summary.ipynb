{
 "cells": [
  {
   "cell_type": "code",
   "execution_count": 30,
   "metadata": {},
   "outputs": [
    {
     "name": "stdout",
     "output_type": "stream",
     "text": [
      "['LotFrontage', 'Alley', 'MasVnrType', 'MasVnrArea', 'BsmtQual', 'BsmtCond', 'BsmtExposure', 'BsmtFinType1', 'BsmtFinType2', 'Electrical', 'FireplaceQu', 'GarageType', 'GarageYrBlt', 'GarageFinish', 'GarageQual', 'GarageCond', 'PoolQC', 'Fence', 'MiscFeature']\n",
      "['MSZoning', 'Street', 'Alley', 'LotShape', 'LandContour', 'Utilities', 'LotConfig', 'LandSlope', 'Neighborhood', 'Condition1', 'Condition2', 'BldgType', 'HouseStyle', 'RoofStyle', 'RoofMatl', 'Exterior1st', 'Exterior2nd', 'MasVnrType', 'ExterQual', 'ExterCond', 'Foundation', 'BsmtQual', 'BsmtCond', 'BsmtExposure', 'BsmtFinType1', 'BsmtFinType2', 'Heating', 'HeatingQC', 'CentralAir', 'Electrical', 'KitchenQual', 'Functional', 'FireplaceQu', 'GarageType', 'GarageFinish', 'GarageQual', 'GarageCond', 'PavedDrive', 'PoolQC', 'Fence', 'MiscFeature', 'SaleType', 'SaleCondition']\n"
     ]
    },
    {
     "data": {
      "text/plain": [
       "Index(['Id', 'MSSubClass', 'MSZoning', 'LotFrontage', 'LotArea', 'Street',\n",
       "       'Alley', 'LotShape', 'LandContour', 'Utilities', 'LotConfig',\n",
       "       'LandSlope', 'Neighborhood', 'Condition1', 'Condition2', 'BldgType',\n",
       "       'HouseStyle', 'OverallQual', 'OverallCond', 'YearBuilt', 'YearRemodAdd',\n",
       "       'RoofStyle', 'RoofMatl', 'Exterior1st', 'Exterior2nd', 'MasVnrType',\n",
       "       'MasVnrArea', 'ExterQual', 'ExterCond', 'Foundation', 'BsmtQual',\n",
       "       'BsmtCond', 'BsmtExposure', 'BsmtFinType1', 'BsmtFinSF1',\n",
       "       'BsmtFinType2', 'BsmtFinSF2', 'BsmtUnfSF', 'TotalBsmtSF', 'Heating',\n",
       "       'HeatingQC', 'CentralAir', 'Electrical', '1stFlrSF', '2ndFlrSF',\n",
       "       'LowQualFinSF', 'GrLivArea', 'BsmtFullBath', 'BsmtHalfBath', 'FullBath',\n",
       "       'HalfBath', 'BedroomAbvGr', 'KitchenAbvGr', 'KitchenQual',\n",
       "       'TotRmsAbvGrd', 'Functional', 'Fireplaces', 'FireplaceQu', 'GarageType',\n",
       "       'GarageYrBlt', 'GarageFinish', 'GarageCars', 'GarageArea', 'GarageQual',\n",
       "       'GarageCond', 'PavedDrive', 'WoodDeckSF', 'OpenPorchSF',\n",
       "       'EnclosedPorch', '3SsnPorch', 'ScreenPorch', 'PoolArea', 'PoolQC',\n",
       "       'Fence', 'MiscFeature', 'MiscVal', 'MoSold', 'YrSold', 'SaleType',\n",
       "       'SaleCondition', 'SalePrice'],\n",
       "      dtype='object')"
      ]
     },
     "execution_count": 30,
     "metadata": {},
     "output_type": "execute_result"
    }
   ],
   "source": [
    "from sklearn.preprocessing import OneHotEncoder\n",
    "from sklearn.preprocessing import LabelEncoder\n",
    "from sklearn.ensemble import RandomForestRegressor\n",
    "from sklearn.metrics import mean_absolute_error\n",
    "import pandas as pd\n",
    "from sklearn.model_selection import train_test_split\n",
    "import numpy as np\n",
    "import matplotlib.pyplot as plt\n",
    "\n",
    "### the dataset comes from Kaggle competition - https://www.kaggle.com/c/house-prices-advanced-regression-techniques/data\n",
    "df = pd.read_csv('C:/Users/Michael/Downloads/python practice/house-prices-advanced-regression-techniques/train.csv')\n",
    "\n",
    "## which columns are missing data?\n",
    "## which columns have categorical data?\n",
    "cols_with_missing = [col for col in df.columns if df[col].isnull().any()]\n",
    "print(cols_with_missing)\n",
    "categorical_col = [col for col in df.columns if df[col].dtypes == object]\n",
    "print(categorical_col)\n",
    "\n",
    "df.head()\n",
    "df.columns\n"
   ]
  },
  {
   "cell_type": "code",
   "execution_count": 31,
   "metadata": {},
   "outputs": [
    {
     "data": {
      "image/png": "[encoded data removed]",
      "text/plain": [
       "<Figure size 432x288 with 1 Axes>"
      ]
     },
     "metadata": {},
     "output_type": "display_data"
    },
    {
     "data": {
      "text/plain": [
       "SalePrice        1.000000\n",
       "OverallQual      0.790982\n",
       "GrLivArea        0.708624\n",
       "GarageCars       0.640409\n",
       "GarageArea       0.623431\n",
       "TotalBsmtSF      0.613581\n",
       "1stFlrSF         0.605852\n",
       "FullBath         0.560664\n",
       "TotRmsAbvGrd     0.533723\n",
       "YearBuilt        0.522897\n",
       "YearRemodAdd     0.507101\n",
       "GarageYrBlt      0.486362\n",
       "MasVnrArea       0.477493\n",
       "Fireplaces       0.466929\n",
       "BsmtFinSF1       0.386420\n",
       "LotFrontage      0.351799\n",
       "WoodDeckSF       0.324413\n",
       "2ndFlrSF         0.319334\n",
       "OpenPorchSF      0.315856\n",
       "HalfBath         0.284108\n",
       "LotArea          0.263843\n",
       "BsmtFullBath     0.227122\n",
       "BsmtUnfSF        0.214479\n",
       "BedroomAbvGr     0.168213\n",
       "ScreenPorch      0.111447\n",
       "PoolArea         0.092404\n",
       "MoSold           0.046432\n",
       "3SsnPorch        0.044584\n",
       "BsmtFinSF2      -0.011378\n",
       "BsmtHalfBath    -0.016844\n",
       "MiscVal         -0.021190\n",
       "Id              -0.021917\n",
       "LowQualFinSF    -0.025606\n",
       "YrSold          -0.028923\n",
       "OverallCond     -0.077856\n",
       "MSSubClass      -0.084284\n",
       "EnclosedPorch   -0.128578\n",
       "KitchenAbvGr    -0.135907\n",
       "Name: SalePrice, dtype: float64"
      ]
     },
     "execution_count": 31,
     "metadata": {},
     "output_type": "execute_result"
    }
   ],
   "source": [
    "#exploratory analysis\n",
    "## scatter plot to see correlation\n",
    "plt.scatter(df.OverallQual, df.SalePrice)\n",
    "plt.show()\n",
    "## let's look at correlation between Sales Price(Y) and other variables(x1,x2,x3...)\n",
    "df.corr().SalePrice.sort_values(ascending = False)\n"
   ]
  },
  {
   "cell_type": "code",
   "execution_count": 32,
   "metadata": {},
   "outputs": [
    {
     "name": "stdout",
     "output_type": "stream",
     "text": [
      "(1095, 37)\n",
      "(365, 37)\n"
     ]
    }
   ],
   "source": [
    "#Let's impute numerical variables using simple imputer - I used mean as the imputed value \n",
    "from sklearn.impute import SimpleImputer\n",
    "\n",
    "numerical =  df.copy()\n",
    "numerical = numerical.select_dtypes(exclude =['object'])\n",
    "numerical_y = numerical['SalePrice']\n",
    "numerical =numerical.drop(columns = ['SalePrice']) \n",
    "train_x,test_x,train_y,test_y = train_test_split(numerical,numerical_y, random_state = 0)\n",
    "mean_imputer = SimpleImputer(strategy = 'mean')\n",
    "train_x_imp = pd.DataFrame(mean_imputer.fit_transform(train_x))\n",
    "test_x_imp = pd.DataFrame(mean_imputer.transform(test_x))\n",
    "train_x_imp.columns = train_x.columns\n",
    "test_x_imp.columns = test_x.columns\n",
    "\n",
    "print(train_x_imp.shape)\n",
    "print(test_x_imp.shape)"
   ]
  },
  {
   "cell_type": "code",
   "execution_count": 33,
   "metadata": {},
   "outputs": [
    {
     "name": "stdout",
     "output_type": "stream",
     "text": [
      "0.8448748014314907\n",
      "0.6800672250178981\n"
     ]
    },
    {
     "data": {
      "text/plain": [
       "22690.735534269348"
      ]
     },
     "execution_count": 33,
     "metadata": {},
     "output_type": "execute_result"
    }
   ],
   "source": [
    "# using linear regression model for prediction\n",
    "\n",
    "from sklearn.linear_model import LinearRegression\n",
    "lin_model = LinearRegression()\n",
    "lin_model.fit(train_x_imp,train_y)\n",
    "print(lin_model.score(train_x_imp,train_y))\n",
    "#score is 0.84\n",
    "print(lin_model.score(test_x_imp,test_y))\n",
    "#score is 0.6874296721301451\n",
    "pred_y = lin_model.predict(test_x_imp)\n",
    "mean_absolute_error(test_y, pred_y)\n",
    "#22690.23412953934\n"
   ]
  },
  {
   "cell_type": "code",
   "execution_count": 34,
   "metadata": {},
   "outputs": [
    {
     "name": "stdout",
     "output_type": "stream",
     "text": [
      "0.9776921017460867\n",
      "0.8471719916258749\n"
     ]
    },
    {
     "data": {
      "text/plain": [
       "17455.213726027396"
      ]
     },
     "execution_count": 34,
     "metadata": {},
     "output_type": "execute_result"
    }
   ],
   "source": [
    "# Random Forrest yeilds much better result. Thus I will be using this model going forward \n",
    "rand_forrest = RandomForestRegressor(n_estimators = 200)\n",
    "rand_forrest.fit(train_x_imp,train_y)\n",
    "print(rand_forrest.score(train_x_imp,train_y))\n",
    "# score is 0.978\n",
    "print(rand_forrest.score(test_x_imp,test_y))\n",
    "#score is 0.8463\n",
    "forest_pred_y = rand_forrest.predict(test_x_imp)\n",
    "mean_absolute_error(test_y, forest_pred_y)\n",
    "#17584.46 "
   ]
  },
  {
   "cell_type": "code",
   "execution_count": 35,
   "metadata": {},
   "outputs": [
    {
     "data": {
      "text/plain": [
       "ExterQual      0\n",
       "HeatingQC      0\n",
       "ExterCond      0\n",
       "BsmtQual       0\n",
       "BsmtCond       0\n",
       "KitchenQual    0\n",
       "GarageCond     0\n",
       "GarageQual     0\n",
       "dtype: int64"
      ]
     },
     "execution_count": 35,
     "metadata": {},
     "output_type": "execute_result"
    }
   ],
   "source": [
    "#label encoding the cardinal columns\n",
    "\n",
    "##I first replaced NaNs with \"NA\", and then label encoded the values. \n",
    "## I did not use simple imputer here. Python showed me an error which said that there were values in the test set that wasnt present in the train set\n",
    "## Thus I just mapped the values that needed to be changed.\n",
    "\n",
    "from sklearn.preprocessing import LabelEncoder\n",
    "labeled_column = ['ExterQual','HeatingQC','ExterCond','BsmtQual','BsmtCond','KitchenQual','GarageCond','GarageQual']\n",
    "\n",
    "label = df.copy()\n",
    "label = label[labeled_column]\n",
    "label.isna().sum()\n",
    "### it seems like there are nans in the dataset, let's fix that \n",
    "label = label.replace(np.nan,\"NA\",regex=True)\n",
    "mapping = {\"NA\":0,\"Po\":1,\"Fa\":2,\"TA\":3,\"Gd\":4,\"Ex\":5}\n",
    "label = label.replace(mapping, regex=True)\n",
    "\n",
    "train_x_labels,test_x_labels = train_test_split(label, random_state = 0)\n",
    "\n",
    "# print(train_x_labels)\n",
    "# print(test_x_labels)\n",
    "train_x_labels.isna().sum()"
   ]
  },
  {
   "cell_type": "code",
   "execution_count": 36,
   "metadata": {},
   "outputs": [
    {
     "name": "stdout",
     "output_type": "stream",
     "text": [
      "0.9790147146617203\n",
      "0.8482106807901122\n",
      "17640.474287671233\n"
     ]
    }
   ],
   "source": [
    "#Let's concat the two dataset so that we have (Numerica + Labeled) Data. Then, let's try using the randomforrest regressor\n",
    "\n",
    "train_X = pd.concat([train_x_imp.reset_index(), train_x_labels.reset_index()], axis =1)\n",
    "test_X = pd.concat([test_x_imp.reset_index(), test_x_labels.reset_index()], axis =1)\n",
    "\n",
    "rand_forrest.fit(train_X,train_y)\n",
    "print(rand_forrest.score(train_X,train_y))\n",
    "#score is 0.98\n",
    "print(rand_forrest.score(test_X,test_y))\n",
    "#score is 0.85\n",
    "pred_y_num_lab = rand_forrest.predict(test_X)\n",
    "print(mean_absolute_error(test_y, pred_y_num_lab))\n",
    "##### error is about 17213. "
   ]
  },
  {
   "cell_type": "code",
   "execution_count": 37,
   "metadata": {},
   "outputs": [
    {
     "name": "stdout",
     "output_type": "stream",
     "text": [
      "(1095, 23)\n",
      "(365, 23)\n"
     ]
    }
   ],
   "source": [
    "#one-hot encoding the categorical columns\n",
    "transform_columns = ['Utilities','Condition1','Condition2','BldgType','CentralAir']#,'Neighborhood']#,'SaleType'] -> these variables surprisingly increased error\n",
    "df3 = df.copy()\n",
    "df3 = df3[transform_columns]\n",
    "df3 = df3.replace(np.nan,\"NA\",regex=True)\n",
    "df3.isnull().sum() #check for missing variables\n",
    "\n",
    "OH_encoder = OneHotEncoder(handle_unknown = 'ignore', sparse = False)\n",
    "\n",
    "train_x_oh,test_x_oh = train_test_split(df3, random_state = 0)\n",
    "train_x_OH = pd.DataFrame(OH_encoder.fit_transform(train_x_oh))\n",
    "test_x_OH = pd.DataFrame(OH_encoder.transform(test_x_oh))\n",
    "train_x_OH.index =  train_x_oh.index\n",
    "test_x_OH.index = test_x_oh.index\n",
    "\n",
    "print(train_x_OH.shape)\n",
    "print(test_x_OH.shape)\n",
    "\n",
    "train_X = pd.concat([train_X.reset_index(), train_x_OH.reset_index()], axis =1)\n",
    "test_X = pd.concat([test_X.reset_index(), test_x_OH.reset_index()], axis =1)"
   ]
  },
  {
   "cell_type": "code",
   "execution_count": 38,
   "metadata": {},
   "outputs": [
    {
     "name": "stdout",
     "output_type": "stream",
     "text": [
      "0.9807828670153107\n",
      "0.8505051125664609\n",
      "17225.19064383562\n"
     ]
    }
   ],
   "source": [
    "rand_forrest.fit(train_X,train_y)\n",
    "print(rand_forrest.score(train_X,train_y))\n",
    "print(rand_forrest.score(test_X,test_y))\n",
    "#score is 0.8537365908978691\n",
    "pred_y_num_lab = rand_forrest.predict(test_X)\n",
    "print(mean_absolute_error(test_y, pred_y_num_lab))\n",
    "##### error is about 17119. "
   ]
  },
  {
   "cell_type": "code",
   "execution_count": 39,
   "metadata": {},
   "outputs": [],
   "source": [
    "##based on the correlation I saw above, I deleted columns which were irrelevant\n",
    "train_X =  train_X.drop(columns = ['index','BedroomAbvGr','ScreenPorch','PoolArea','MoSold','3SsnPorch','BsmtFinSF2','BsmtHalfBath','MiscVal','Id','LowQualFinSF','YrSold','OverallCond','MSSubClass','EnclosedPorch','KitchenAbvGr']) \n",
    "test_X =  test_X.drop(columns = ['index','BedroomAbvGr','ScreenPorch','PoolArea','MoSold','3SsnPorch','BsmtFinSF2','BsmtHalfBath','MiscVal','Id','LowQualFinSF','YrSold','OverallCond','MSSubClass','EnclosedPorch','KitchenAbvGr']) \n",
    "\n"
   ]
  },
  {
   "cell_type": "code",
   "execution_count": 40,
   "metadata": {},
   "outputs": [
    {
     "name": "stdout",
     "output_type": "stream",
     "text": [
      "0.9792400604752021\n",
      "0.8594592346742465\n",
      "17070.334421917807\n"
     ]
    }
   ],
   "source": [
    "#then, random forrest modelling\n",
    "rand_forrest2 = RandomForestRegressor(n_estimators = 1000)\n",
    "rand_forrest2.fit(train_X,train_y)\n",
    "print(rand_forrest2.score(train_X,train_y))\n",
    "print(rand_forrest2.score(test_X,test_y))\n",
    "#score is 0.8537365908978691\n",
    "pred_y_num_lab = rand_forrest2.predict(test_X)\n",
    "print(mean_absolute_error(test_y, pred_y_num_lab))\n",
    "## the error is about 17030, so 100 cut"
   ]
  },
  {
   "cell_type": "code",
   "execution_count": 45,
   "metadata": {},
   "outputs": [
    {
     "name": "stdout",
     "output_type": "stream",
     "text": [
      "0.990670022233447\n",
      "0.8409427637156476\n",
      "17068.37557791096\n"
     ]
    }
   ],
   "source": [
    "# Finally, let's use a different technique -XG Boosting \n",
    "from xgboost import XGBRegressor\n",
    "\n",
    "# remember that XGB needs every column to be unique - concat may give me duplicates of columns \n",
    "my_model = XGBRegressor(n_estimators = 1000, learning_rate = 0.01, n_jobs = 5)\n",
    "my_model.fit(train_X, train_y, early_stopping_rounds=5, eval_set=[(test_X,test_y)],verbose=False)\n",
    "print(my_model.score(train_X,train_y))\n",
    "#score is 0.99\n",
    "print(my_model.score(test_X,test_y))\n",
    "#score is 0.8347365908978691\n",
    "pred_y = my_model.predict(test_X)\n",
    "print(mean_absolute_error(test_y, pred_y))\n",
    "## the error is about 17070, so worse than the methods before\n"
   ]
  },
  {
   "cell_type": "code",
   "execution_count": 26,
   "metadata": {},
   "outputs": [],
   "source": [
    "### Let's submit the result to Kaggle \n",
    "test = pd.read_csv('C:/Users/Michael/Downloads/python practice/house-prices-advanced-regression-techniques/test.csv')\n"
   ]
  },
  {
   "cell_type": "code",
   "execution_count": 30,
   "metadata": {},
   "outputs": [],
   "source": [
    "#make numerical\n",
    "\n",
    "test_numerical =  test.copy()\n",
    "test_numerical = test_numerical.select_dtypes(exclude =['object'])\n",
    "test_numerical_imp = pd.DataFrame(mean_imputer.transform(test_numerical))\n",
    "test_numerical_imp.columns = test_numerical.columns"
   ]
  },
  {
   "cell_type": "code",
   "execution_count": 33,
   "metadata": {},
   "outputs": [
    {
     "data": {
      "text/plain": [
       "ExterQual      0\n",
       "HeatingQC      0\n",
       "ExterCond      0\n",
       "BsmtQual       0\n",
       "BsmtCond       0\n",
       "KitchenQual    0\n",
       "GarageCond     0\n",
       "GarageQual     0\n",
       "dtype: int64"
      ]
     },
     "execution_count": 33,
     "metadata": {},
     "output_type": "execute_result"
    }
   ],
   "source": [
    "#make labeled \n",
    "\n",
    "test1 =  test.copy()\n",
    "test_label = test1[labeled_column]\n",
    "\n",
    "test_label = test_label.replace(np.nan,\"NA\",regex=True)\n",
    "test_label = test_label.replace(mapping, regex=True)\n",
    "\n",
    "test_label.isna().sum()\n"
   ]
  },
  {
   "cell_type": "code",
   "execution_count": 35,
   "metadata": {},
   "outputs": [],
   "source": [
    "# make one-hot-encoded\n",
    "\n",
    "test2 = test.copy()\n",
    "test2 = test2[transform_columns]\n",
    "test2 = test2.replace(np.nan,\"NA\",regex=True)\n",
    "test2.isnull().sum() #check for missing variables\n",
    "\n",
    "test_OH = pd.DataFrame(OH_encoder.transform(test2))\n",
    "test_OH.index = test2.index\n"
   ]
  },
  {
   "cell_type": "code",
   "execution_count": 36,
   "metadata": {},
   "outputs": [],
   "source": [
    "# concat 3 sets of data, drop unnecessary columns \n",
    "test_1 = pd.concat([test_numerical_imp.reset_index(), test_label.reset_index()], axis =1)\n",
    "test_ready = pd.concat([test_1.reset_index(), test_OH.reset_index()], axis =1)\n",
    "test_ready =  test_ready.drop(columns = ['index','BedroomAbvGr','ScreenPorch','PoolArea','MoSold','3SsnPorch','BsmtFinSF2','BsmtHalfBath','MiscVal','Id','LowQualFinSF','YrSold','OverallCond','MSSubClass','EnclosedPorch','KitchenAbvGr']) \n"
   ]
  },
  {
   "cell_type": "code",
   "execution_count": 53,
   "metadata": {},
   "outputs": [],
   "source": [
    "prediction1 = rand_forrest2.predict(test_ready)\n",
    "prediction2 = my_model.predict(test_ready)\n",
    "\n",
    "\n",
    "\n",
    "prediction1 = pd.DataFrame({'Id': np.array(range(1461,2920)), 'SalePrice' : prediction1})\n",
    "prediction2 = pd.DataFrame({'Id': np.array(range(1461,2920)), 'SalePrice' : prediction2})\n",
    "\n",
    "#range(1461,2920)\n",
    "prediction1.to_csv('random_forrest_prediction.csv',index=False)\n",
    "prediction2.to_csv('XGRBosst_prediction.csv',index=False)\n",
    "       "
   ]
  },
  {
   "cell_type": "code",
   "execution_count": 40,
   "metadata": {},
   "outputs": [
    {
     "data": {
      "text/plain": [
       "array([127791.98, 146772.42, 185954.08, ..., 169546.45, 107949.76,\n",
       "       226375.22], dtype=float32)"
      ]
     },
     "execution_count": 40,
     "metadata": {},
     "output_type": "execute_result"
    }
   ],
   "source": [
    "prediction2"
   ]
  },
  {
   "cell_type": "markdown",
   "metadata": {},
   "source": [
    "#### XGBoost results in 0.14 RMS Logarithmic Error\n",
    "#### Random Forrest results in 0.15 RMS Logarithmic Error"
   ]
  },
  {
   "cell_type": "code",
   "execution_count": 3,
   "metadata": {},
   "outputs": [],
   "source": [
    "## Re-cleaning the data using the methods from Kaggle\n",
    "\n",
    "train = pd.read_csv('C:/Users/Michael/Downloads/python practice/house-prices-advanced-regression-techniques/train.csv')\n",
    "test = pd.read_csv('C:/Users/Michael/Downloads/python practice/house-prices-advanced-regression-techniques/train.csv')"
   ]
  },
  {
   "cell_type": "code",
   "execution_count": 14,
   "metadata": {},
   "outputs": [
    {
     "name": "stdout",
     "output_type": "stream",
     "text": [
      "all_data size is : (1456, 79)\n"
     ]
    }
   ],
   "source": [
    "#Now drop the  'Id' colum since it's unnecessary for  the prediction process.\n",
    "train.drop(\"Id\", axis = 1, inplace = True)\n",
    "test.drop(\"Id\", axis = 1, inplace = True)\n",
    "\n",
    "train = train.drop(train[(train['GrLivArea']>4000) & (train['SalePrice']<300000)].index)\n",
    "train[\"SalePrice\"] = np.log1p(train[\"SalePrice\"])\n",
    "\n",
    "ntrain = train.shape[0]\n",
    "ntest = test.shape[0]\n",
    "y_train = train.SalePrice.values\n",
    "\n",
    "all_data = train.copy()\n",
    "all_data.drop(['SalePrice'], axis=1, inplace=True)\n",
    "print(\"all_data size is : {}\".format(all_data.shape))"
   ]
  },
  {
   "cell_type": "code",
   "execution_count": 15,
   "metadata": {},
   "outputs": [
    {
     "data": {
      "text/html": [
       "<div>\n",
       "<style scoped>\n",
       "    .dataframe tbody tr th:only-of-type {\n",
       "        vertical-align: middle;\n",
       "    }\n",
       "\n",
       "    .dataframe tbody tr th {\n",
       "        vertical-align: top;\n",
       "    }\n",
       "\n",
       "    .dataframe thead th {\n",
       "        text-align: right;\n",
       "    }\n",
       "</style>\n",
       "<table border=\"1\" class=\"dataframe\">\n",
       "  <thead>\n",
       "    <tr style=\"text-align: right;\">\n",
       "      <th></th>\n",
       "      <th>Missing Ratio</th>\n",
       "    </tr>\n",
       "  </thead>\n",
       "  <tbody>\n",
       "    <tr>\n",
       "      <th>PoolQC</th>\n",
       "      <td>99.656593</td>\n",
       "    </tr>\n",
       "    <tr>\n",
       "      <th>MiscFeature</th>\n",
       "      <td>96.291209</td>\n",
       "    </tr>\n",
       "    <tr>\n",
       "      <th>Alley</th>\n",
       "      <td>93.750000</td>\n",
       "    </tr>\n",
       "    <tr>\n",
       "      <th>Fence</th>\n",
       "      <td>80.769231</td>\n",
       "    </tr>\n",
       "    <tr>\n",
       "      <th>FireplaceQu</th>\n",
       "      <td>47.390110</td>\n",
       "    </tr>\n",
       "    <tr>\n",
       "      <th>LotFrontage</th>\n",
       "      <td>17.788462</td>\n",
       "    </tr>\n",
       "    <tr>\n",
       "      <th>GarageYrBlt</th>\n",
       "      <td>5.563187</td>\n",
       "    </tr>\n",
       "    <tr>\n",
       "      <th>GarageType</th>\n",
       "      <td>5.563187</td>\n",
       "    </tr>\n",
       "    <tr>\n",
       "      <th>GarageFinish</th>\n",
       "      <td>5.563187</td>\n",
       "    </tr>\n",
       "    <tr>\n",
       "      <th>GarageQual</th>\n",
       "      <td>5.563187</td>\n",
       "    </tr>\n",
       "    <tr>\n",
       "      <th>GarageCond</th>\n",
       "      <td>5.563187</td>\n",
       "    </tr>\n",
       "    <tr>\n",
       "      <th>BsmtFinType2</th>\n",
       "      <td>2.609890</td>\n",
       "    </tr>\n",
       "    <tr>\n",
       "      <th>BsmtExposure</th>\n",
       "      <td>2.609890</td>\n",
       "    </tr>\n",
       "    <tr>\n",
       "      <th>BsmtFinType1</th>\n",
       "      <td>2.541209</td>\n",
       "    </tr>\n",
       "    <tr>\n",
       "      <th>BsmtCond</th>\n",
       "      <td>2.541209</td>\n",
       "    </tr>\n",
       "    <tr>\n",
       "      <th>BsmtQual</th>\n",
       "      <td>2.541209</td>\n",
       "    </tr>\n",
       "    <tr>\n",
       "      <th>MasVnrArea</th>\n",
       "      <td>0.549451</td>\n",
       "    </tr>\n",
       "    <tr>\n",
       "      <th>MasVnrType</th>\n",
       "      <td>0.549451</td>\n",
       "    </tr>\n",
       "    <tr>\n",
       "      <th>Electrical</th>\n",
       "      <td>0.068681</td>\n",
       "    </tr>\n",
       "  </tbody>\n",
       "</table>\n",
       "</div>"
      ],
      "text/plain": [
       "              Missing Ratio\n",
       "PoolQC            99.656593\n",
       "MiscFeature       96.291209\n",
       "Alley             93.750000\n",
       "Fence             80.769231\n",
       "FireplaceQu       47.390110\n",
       "LotFrontage       17.788462\n",
       "GarageYrBlt        5.563187\n",
       "GarageType         5.563187\n",
       "GarageFinish       5.563187\n",
       "GarageQual         5.563187\n",
       "GarageCond         5.563187\n",
       "BsmtFinType2       2.609890\n",
       "BsmtExposure       2.609890\n",
       "BsmtFinType1       2.541209\n",
       "BsmtCond           2.541209\n",
       "BsmtQual           2.541209\n",
       "MasVnrArea         0.549451\n",
       "MasVnrType         0.549451\n",
       "Electrical         0.068681"
      ]
     },
     "execution_count": 15,
     "metadata": {},
     "output_type": "execute_result"
    }
   ],
   "source": [
    "all_data_na = (all_data.isnull().sum() / len(all_data)) * 100\n",
    "all_data_na = all_data_na.drop(all_data_na[all_data_na == 0].index).sort_values(ascending=False)[:30]\n",
    "missing_data = pd.DataFrame({'Missing Ratio' :all_data_na})\n",
    "missing_data.head(20)"
   ]
  },
  {
   "cell_type": "code",
   "execution_count": 16,
   "metadata": {},
   "outputs": [],
   "source": [
    "## Imputing missing values \n",
    "all_data[\"PoolQC\"] = all_data[\"PoolQC\"].fillna(\"None\")\n",
    "all_data[\"MiscFeature\"] = all_data[\"MiscFeature\"].fillna(\"None\")\n",
    "all_data[\"Alley\"] = all_data[\"Alley\"].fillna(\"None\")\n",
    "all_data[\"Fence\"] = all_data[\"Fence\"].fillna(\"None\")\n",
    "all_data[\"FireplaceQu\"] = all_data[\"FireplaceQu\"].fillna(\"None\")\n",
    "#LotFrontage : Since the area of each street connected to the house property most likely have a similar area to \n",
    "#other houses in its neighborhood we can fill in missing values by the median LotFrontage of the neighborhood.\n",
    "all_data[\"LotFrontage\"] = all_data.groupby(\"Neighborhood\")[\"LotFrontage\"].transform(\n",
    "    lambda x: x.fillna(x.median()))\n",
    "for col in ('GarageType', 'GarageFinish', 'GarageQual', 'GarageCond'):\n",
    "    all_data[col] = all_data[col].fillna('None')\n",
    "for col in ('GarageYrBlt', 'GarageArea', 'GarageCars'):\n",
    "    all_data[col] = all_data[col].fillna(0)\n",
    "for col in ('BsmtFinSF1', 'BsmtFinSF2', 'BsmtUnfSF','TotalBsmtSF', 'BsmtFullBath', 'BsmtHalfBath'):\n",
    "    all_data[col] = all_data[col].fillna(0)\n",
    "for col in ('BsmtQual', 'BsmtCond', 'BsmtExposure', 'BsmtFinType1', 'BsmtFinType2'):\n",
    "    all_data[col] = all_data[col].fillna('None')\n",
    "all_data[\"MasVnrType\"] = all_data[\"MasVnrType\"].fillna(\"None\")\n",
    "all_data[\"MasVnrArea\"] = all_data[\"MasVnrArea\"].fillna(0)\n",
    "#MSZoning (The general zoning classification) : 'RL' is by far the most common value. So we can fill in missing values with 'RL'\n",
    "all_data['MSZoning'] = all_data['MSZoning'].fillna(all_data['MSZoning'].mode()[0])\n",
    "all_data = all_data.drop(['Utilities'], axis=1)\n",
    "all_data[\"Functional\"] = all_data[\"Functional\"].fillna(\"Typ\")\n",
    "# columns with only one missing value. - > impute with the most common value \n",
    "\n",
    "all_data['Electrical'] = all_data['Electrical'].fillna(all_data['Electrical'].mode()[0])\n",
    "all_data['KitchenQual'] = all_data['KitchenQual'].fillna(all_data['KitchenQual'].mode()[0])\n",
    "all_data['Exterior1st'] = all_data['Exterior1st'].fillna(all_data['Exterior1st'].mode()[0])\n",
    "all_data['Exterior2nd'] = all_data['Exterior2nd'].fillna(all_data['Exterior2nd'].mode()[0])\n",
    "all_data['SaleType'] = all_data['SaleType'].fillna(all_data['SaleType'].mode()[0])\n",
    "all_data['MSSubClass'] = all_data['MSSubClass'].fillna(\"None\")\n",
    "\n",
    "test[\"PoolQC\"] = test[\"PoolQC\"].fillna(\"None\")\n",
    "test[\"MiscFeature\"] = test[\"MiscFeature\"].fillna(\"None\")\n",
    "test[\"Alley\"] = test[\"Alley\"].fillna(\"None\")\n",
    "test[\"Fence\"] = test[\"Fence\"].fillna(\"None\")\n",
    "test[\"FireplaceQu\"] = test[\"FireplaceQu\"].fillna(\"None\")\n",
    "#LotFrontage : Since the area of each street connected to the house property most likely have a similar area to \n",
    "#other houses in its neighborhood we can fill in missing values by the median LotFrontage of the neighborhood.\n",
    "test[\"LotFrontage\"] = test.groupby(\"Neighborhood\")[\"LotFrontage\"].transform(\n",
    "    lambda x: x.fillna(x.median()))\n",
    "for col in ('GarageType', 'GarageFinish', 'GarageQual', 'GarageCond'):\n",
    "    test[col] = test[col].fillna('None')\n",
    "for col in ('GarageYrBlt', 'GarageArea', 'GarageCars'):\n",
    "    test[col] = test[col].fillna(0)\n",
    "for col in ('BsmtFinSF1', 'BsmtFinSF2', 'BsmtUnfSF','TotalBsmtSF', 'BsmtFullBath', 'BsmtHalfBath'):\n",
    "    test[col] = test[col].fillna(0)\n",
    "for col in ('BsmtQual', 'BsmtCond', 'BsmtExposure', 'BsmtFinType1', 'BsmtFinType2'):\n",
    "    test[col] = test[col].fillna('None')\n",
    "test[\"MasVnrType\"] = test[\"MasVnrType\"].fillna(\"None\")\n",
    "test[\"MasVnrArea\"] = test[\"MasVnrArea\"].fillna(0)\n",
    "#MSZoning (The general zoning classification) : 'RL' is by far the most common value. So we can fill in missing values with 'RL'\n",
    "test['MSZoning'] = test['MSZoning'].fillna(test['MSZoning'].mode()[0])\n",
    "test = test.drop(['Utilities'], axis=1)\n",
    "test[\"Functional\"] = test[\"Functional\"].fillna(\"Typ\")\n",
    "# columns with only one missing value. - > impute with the most common value \n",
    "\n",
    "test['Electrical'] = test['Electrical'].fillna(test['Electrical'].mode()[0])\n",
    "test['KitchenQual'] = test['KitchenQual'].fillna(test['KitchenQual'].mode()[0])\n",
    "test['Exterior1st'] = test['Exterior1st'].fillna(test['Exterior1st'].mode()[0])\n",
    "test['Exterior2nd'] = test['Exterior2nd'].fillna(test['Exterior2nd'].mode()[0])\n",
    "test['SaleType'] = test['SaleType'].fillna(test['SaleType'].mode()[0])\n",
    "test['MSSubClass'] = test['MSSubClass'].fillna(\"None\")"
   ]
  },
  {
   "cell_type": "code",
   "execution_count": 17,
   "metadata": {},
   "outputs": [
    {
     "name": "stdout",
     "output_type": "stream",
     "text": [
      "Shape all_data: (1456, 78)\n"
     ]
    }
   ],
   "source": [
    "from sklearn.preprocessing import LabelEncoder\n",
    "cols = ('FireplaceQu', 'BsmtQual', 'BsmtCond', 'GarageQual', 'GarageCond', \n",
    "        'ExterQual', 'ExterCond','HeatingQC', 'PoolQC', 'KitchenQual', 'BsmtFinType1', \n",
    "        'BsmtFinType2', 'Functional', 'Fence', 'BsmtExposure', 'GarageFinish', 'LandSlope',\n",
    "        'LotShape', 'PavedDrive', 'Street', 'Alley', 'CentralAir', 'MSSubClass', 'OverallCond', \n",
    "        'YrSold', 'MoSold')\n",
    "# process columns, apply LabelEncoder to categorical features\n",
    "for c in cols:\n",
    "    lbl = LabelEncoder() \n",
    "    lbl.fit(list(all_data[c].values)) \n",
    "    all_data[c] = lbl.transform(list(all_data[c].values))\n",
    "    test[c] = lbl.transform(list(test[c].values))\n",
    "    \n",
    "# shape        \n",
    "print('Shape all_data: {}'.format(all_data.shape))"
   ]
  },
  {
   "cell_type": "code",
   "execution_count": 18,
   "metadata": {},
   "outputs": [
    {
     "name": "stdout",
     "output_type": "stream",
     "text": [
      "\n",
      "Skew in numerical features: \n",
      "\n"
     ]
    },
    {
     "data": {
      "text/html": [
       "<div>\n",
       "<style scoped>\n",
       "    .dataframe tbody tr th:only-of-type {\n",
       "        vertical-align: middle;\n",
       "    }\n",
       "\n",
       "    .dataframe tbody tr th {\n",
       "        vertical-align: top;\n",
       "    }\n",
       "\n",
       "    .dataframe thead th {\n",
       "        text-align: right;\n",
       "    }\n",
       "</style>\n",
       "<table border=\"1\" class=\"dataframe\">\n",
       "  <thead>\n",
       "    <tr style=\"text-align: right;\">\n",
       "      <th></th>\n",
       "      <th>Skew</th>\n",
       "    </tr>\n",
       "  </thead>\n",
       "  <tbody>\n",
       "    <tr>\n",
       "      <th>MiscVal</th>\n",
       "      <td>24.418175</td>\n",
       "    </tr>\n",
       "    <tr>\n",
       "      <th>PoolArea</th>\n",
       "      <td>17.504556</td>\n",
       "    </tr>\n",
       "    <tr>\n",
       "      <th>LotArea</th>\n",
       "      <td>12.574590</td>\n",
       "    </tr>\n",
       "    <tr>\n",
       "      <th>3SsnPorch</th>\n",
       "      <td>10.279262</td>\n",
       "    </tr>\n",
       "    <tr>\n",
       "      <th>LowQualFinSF</th>\n",
       "      <td>8.989291</td>\n",
       "    </tr>\n",
       "    <tr>\n",
       "      <th>LandSlope</th>\n",
       "      <td>4.801326</td>\n",
       "    </tr>\n",
       "    <tr>\n",
       "      <th>KitchenAbvGr</th>\n",
       "      <td>4.476748</td>\n",
       "    </tr>\n",
       "    <tr>\n",
       "      <th>BsmtFinSF2</th>\n",
       "      <td>4.244209</td>\n",
       "    </tr>\n",
       "    <tr>\n",
       "      <th>BsmtHalfBath</th>\n",
       "      <td>4.124712</td>\n",
       "    </tr>\n",
       "    <tr>\n",
       "      <th>ScreenPorch</th>\n",
       "      <td>4.111400</td>\n",
       "    </tr>\n",
       "    <tr>\n",
       "      <th>EnclosedPorch</th>\n",
       "      <td>3.081275</td>\n",
       "    </tr>\n",
       "    <tr>\n",
       "      <th>MasVnrArea</th>\n",
       "      <td>2.654761</td>\n",
       "    </tr>\n",
       "    <tr>\n",
       "      <th>OpenPorchSF</th>\n",
       "      <td>2.337435</td>\n",
       "    </tr>\n",
       "    <tr>\n",
       "      <th>WoodDeckSF</th>\n",
       "      <td>1.549672</td>\n",
       "    </tr>\n",
       "    <tr>\n",
       "      <th>LotFrontage</th>\n",
       "      <td>1.536892</td>\n",
       "    </tr>\n",
       "    <tr>\n",
       "      <th>BsmtUnfSF</th>\n",
       "      <td>0.920809</td>\n",
       "    </tr>\n",
       "    <tr>\n",
       "      <th>1stFlrSF</th>\n",
       "      <td>0.866187</td>\n",
       "    </tr>\n",
       "    <tr>\n",
       "      <th>GrLivArea</th>\n",
       "      <td>0.834332</td>\n",
       "    </tr>\n",
       "    <tr>\n",
       "      <th>2ndFlrSF</th>\n",
       "      <td>0.777065</td>\n",
       "    </tr>\n",
       "    <tr>\n",
       "      <th>BsmtFinSF1</th>\n",
       "      <td>0.744088</td>\n",
       "    </tr>\n",
       "    <tr>\n",
       "      <th>OverallCond</th>\n",
       "      <td>0.689919</td>\n",
       "    </tr>\n",
       "    <tr>\n",
       "      <th>HalfBath</th>\n",
       "      <td>0.683518</td>\n",
       "    </tr>\n",
       "    <tr>\n",
       "      <th>TotRmsAbvGrd</th>\n",
       "      <td>0.660735</td>\n",
       "    </tr>\n",
       "    <tr>\n",
       "      <th>MSSubClass</th>\n",
       "      <td>0.659010</td>\n",
       "    </tr>\n",
       "    <tr>\n",
       "      <th>TotalSF</th>\n",
       "      <td>0.635280</td>\n",
       "    </tr>\n",
       "    <tr>\n",
       "      <th>Fireplaces</th>\n",
       "      <td>0.632026</td>\n",
       "    </tr>\n",
       "    <tr>\n",
       "      <th>BsmtFullBath</th>\n",
       "      <td>0.590543</td>\n",
       "    </tr>\n",
       "    <tr>\n",
       "      <th>TotalBsmtSF</th>\n",
       "      <td>0.485894</td>\n",
       "    </tr>\n",
       "    <tr>\n",
       "      <th>HeatingQC</th>\n",
       "      <td>0.478230</td>\n",
       "    </tr>\n",
       "    <tr>\n",
       "      <th>FireplaceQu</th>\n",
       "      <td>0.313149</td>\n",
       "    </tr>\n",
       "  </tbody>\n",
       "</table>\n",
       "</div>"
      ],
      "text/plain": [
       "                    Skew\n",
       "MiscVal        24.418175\n",
       "PoolArea       17.504556\n",
       "LotArea        12.574590\n",
       "3SsnPorch      10.279262\n",
       "LowQualFinSF    8.989291\n",
       "LandSlope       4.801326\n",
       "KitchenAbvGr    4.476748\n",
       "BsmtFinSF2      4.244209\n",
       "BsmtHalfBath    4.124712\n",
       "ScreenPorch     4.111400\n",
       "EnclosedPorch   3.081275\n",
       "MasVnrArea      2.654761\n",
       "OpenPorchSF     2.337435\n",
       "WoodDeckSF      1.549672\n",
       "LotFrontage     1.536892\n",
       "BsmtUnfSF       0.920809\n",
       "1stFlrSF        0.866187\n",
       "GrLivArea       0.834332\n",
       "2ndFlrSF        0.777065\n",
       "BsmtFinSF1      0.744088\n",
       "OverallCond     0.689919\n",
       "HalfBath        0.683518\n",
       "TotRmsAbvGrd    0.660735\n",
       "MSSubClass      0.659010\n",
       "TotalSF         0.635280\n",
       "Fireplaces      0.632026\n",
       "BsmtFullBath    0.590543\n",
       "TotalBsmtSF     0.485894\n",
       "HeatingQC       0.478230\n",
       "FireplaceQu     0.313149"
      ]
     },
     "execution_count": 18,
     "metadata": {},
     "output_type": "execute_result"
    }
   ],
   "source": [
    "import seaborn as sns\n",
    "color = sns.color_palette()\n",
    "sns.set_style('darkgrid')\n",
    "import warnings\n",
    "def ignore_warn(*args, **kwargs):\n",
    "    pass\n",
    "warnings.warn = ignore_warn #ignore annoying warning (from sklearn and seaborn)\n",
    "from scipy import stats\n",
    "from scipy.stats import norm, skew #for some statistics\n",
    "\n",
    "\n",
    "all_data['TotalSF'] = all_data['TotalBsmtSF'] + all_data['1stFlrSF'] + all_data['2ndFlrSF']\n",
    "test['TotalSF'] = test['TotalBsmtSF'] + test['1stFlrSF'] + test['2ndFlrSF']\n",
    "numeric_feats = all_data.dtypes[all_data.dtypes != \"object\"].index\n",
    "\n",
    "# Check the skew of all numerical features\n",
    "skewed_feats = all_data[numeric_feats].apply(lambda x: skew(x.dropna())).sort_values(ascending=False)\n",
    "print(\"\\nSkew in numerical features: \\n\")\n",
    "skewness = pd.DataFrame({'Skew' :skewed_feats})\n",
    "skewness.head(30)"
   ]
  },
  {
   "cell_type": "code",
   "execution_count": 20,
   "metadata": {},
   "outputs": [
    {
     "name": "stdout",
     "output_type": "stream",
     "text": [
      "There are 59 skewed numerical features to Box Cox transform\n"
     ]
    }
   ],
   "source": [
    "skewness = skewness[abs(skewness) > 0.75]\n",
    "print(\"There are {} skewed numerical features to Box Cox transform\".format(skewness.shape[0]))\n",
    "\n",
    "from scipy.special import boxcox1p\n",
    "skewed_features = skewness.index\n",
    "lam = 0.15\n",
    "for feat in skewed_features:\n",
    "    #all_data[feat] += 1\n",
    "    all_data[feat] = boxcox1p(all_data[feat], lam)\n",
    "    test[feat] = boxcox1p(test[feat],lam)\n",
    "    \n",
    "#all_data[skewed_features] = np.log1p(all_data[skewed_features])"
   ]
  },
  {
   "cell_type": "code",
   "execution_count": 26,
   "metadata": {},
   "outputs": [
    {
     "name": "stdout",
     "output_type": "stream",
     "text": [
      "(1456, 220)\n"
     ]
    }
   ],
   "source": [
    "from sklearn.linear_model import ElasticNet, Lasso,  BayesianRidge, LassoLarsIC\n",
    "from sklearn.ensemble import RandomForestRegressor,  GradientBoostingRegressor\n",
    "from sklearn.kernel_ridge import KernelRidge\n",
    "from sklearn.pipeline import make_pipeline\n",
    "from sklearn.preprocessing import RobustScaler\n",
    "from sklearn.base import BaseEstimator, TransformerMixin, RegressorMixin, clone\n",
    "from sklearn.model_selection import KFold, cross_val_score, train_test_split\n",
    "from sklearn.metrics import mean_squared_error\n",
    "import xgboost as xgb\n",
    "n_folds = 5\n",
    "\n",
    "def rmsle_cv(model):\n",
    "    kf = KFold(n_folds, shuffle=True, random_state=42).get_n_splits(train.values)\n",
    "    rmse= np.sqrt(-cross_val_score(model, train.values, y_train, scoring=\"neg_mean_squared_error\", cv = kf))\n",
    "    return(rmse)\n",
    "\n",
    "all_data = pd.get_dummies(all_data)\n",
    "print(all_data.shape)\n",
    "train = all_data[:ntrain]"
   ]
  },
  {
   "cell_type": "code",
   "execution_count": 27,
   "metadata": {},
   "outputs": [],
   "source": [
    "#LASSO Regression :This model may be very sensitive to outliers. So we need to made it more robust on them. For that we use the sklearn's Robustscaler() method on pipeline\n",
    "lasso = make_pipeline(RobustScaler(), Lasso(alpha =0.0005, random_state=1))\n",
    "# Elastic Net Regression: again made robust to outliers\n",
    "ENet = make_pipeline(RobustScaler(), ElasticNet(alpha=0.0005, l1_ratio=.9, random_state=3))\n",
    "KRR = KernelRidge(alpha=0.6, kernel='polynomial', degree=2, coef0=2.5)\n",
    "\n",
    "model_xgb = xgb.XGBRegressor(colsample_bytree=0.4603, gamma=0.0468, \n",
    "                             learning_rate=0.05, max_depth=3, \n",
    "                             min_child_weight=1.7817, n_estimators=2200,\n",
    "                             reg_alpha=0.4640, reg_lambda=0.8571,\n",
    "                             subsample=0.5213, silent=1,\n",
    "                             random_state =7, nthread = -1)"
   ]
  },
  {
   "cell_type": "code",
   "execution_count": 28,
   "metadata": {},
   "outputs": [
    {
     "name": "stdout",
     "output_type": "stream",
     "text": [
      "\n",
      "Lasso score: 0.0098 (0.0006)\n",
      "\n",
      "ElasticNet score: 0.0097 (0.0006)\n",
      "\n",
      "Kernel Ridge score: 0.0098 (0.0007)\n",
      "\n",
      "[15:24:08] WARNING: C:\\Users\\Administrator\\workspace\\xgboost-win64_release_1.1.0\\src\\learner.cc:480: \n",
      "Parameters: { silent } might not be used.\n",
      "\n",
      "  This may not be accurate due to some parameters are only used in language bindings but\n",
      "  passed down to XGBoost core.  Or some parameters are not used but slip through this\n",
      "  verification. Please open an issue if you find above cases.\n",
      "\n",
      "\n",
      "[15:24:10] WARNING: C:\\Users\\Administrator\\workspace\\xgboost-win64_release_1.1.0\\src\\learner.cc:480: \n",
      "Parameters: { silent } might not be used.\n",
      "\n",
      "  This may not be accurate due to some parameters are only used in language bindings but\n",
      "  passed down to XGBoost core.  Or some parameters are not used but slip through this\n",
      "  verification. Please open an issue if you find above cases.\n",
      "\n",
      "\n",
      "[15:24:12] WARNING: C:\\Users\\Administrator\\workspace\\xgboost-win64_release_1.1.0\\src\\learner.cc:480: \n",
      "Parameters: { silent } might not be used.\n",
      "\n",
      "  This may not be accurate due to some parameters are only used in language bindings but\n",
      "  passed down to XGBoost core.  Or some parameters are not used but slip through this\n",
      "  verification. Please open an issue if you find above cases.\n",
      "\n",
      "\n",
      "[15:24:15] WARNING: C:\\Users\\Administrator\\workspace\\xgboost-win64_release_1.1.0\\src\\learner.cc:480: \n",
      "Parameters: { silent } might not be used.\n",
      "\n",
      "  This may not be accurate due to some parameters are only used in language bindings but\n",
      "  passed down to XGBoost core.  Or some parameters are not used but slip through this\n",
      "  verification. Please open an issue if you find above cases.\n",
      "\n",
      "\n",
      "[15:24:17] WARNING: C:\\Users\\Administrator\\workspace\\xgboost-win64_release_1.1.0\\src\\learner.cc:480: \n",
      "Parameters: { silent } might not be used.\n",
      "\n",
      "  This may not be accurate due to some parameters are only used in language bindings but\n",
      "  passed down to XGBoost core.  Or some parameters are not used but slip through this\n",
      "  verification. Please open an issue if you find above cases.\n",
      "\n",
      "\n",
      "Xgboost score: 0.0187 (0.0012)\n",
      "\n"
     ]
    }
   ],
   "source": [
    "score = rmsle_cv(lasso)\n",
    "print(\"\\nLasso score: {:.4f} ({:.4f})\\n\".format(score.mean(), score.std()))\n",
    "score = rmsle_cv(ENet)\n",
    "print(\"ElasticNet score: {:.4f} ({:.4f})\\n\".format(score.mean(), score.std()))\n",
    "score = rmsle_cv(KRR)\n",
    "print(\"Kernel Ridge score: {:.4f} ({:.4f})\\n\".format(score.mean(), score.std()))\n",
    "\n",
    "score = rmsle_cv(model_xgb)\n",
    "print(\"Xgboost score: {:.4f} ({:.4f})\\n\".format(score.mean(), score.std()))\n"
   ]
  },
  {
   "cell_type": "code",
   "execution_count": null,
   "metadata": {},
   "outputs": [],
   "source": []
  },
  {
   "cell_type": "code",
   "execution_count": 57,
   "metadata": {},
   "outputs": [
    {
     "data": {
      "text/plain": [
       "RandomForestRegressor(bootstrap=True, criterion='mse', max_depth=None,\n",
       "           max_features='auto', max_leaf_nodes=None,\n",
       "           min_impurity_decrease=0.0, min_impurity_split=None,\n",
       "           min_samples_leaf=1, min_samples_split=2,\n",
       "           min_weight_fraction_leaf=0.0, n_estimators=1000, n_jobs=None,\n",
       "           oob_score=False, random_state=None, verbose=0, warm_start=False)"
      ]
     },
     "execution_count": 57,
     "metadata": {},
     "output_type": "execute_result"
    }
   ],
   "source": [
    "rand_forrest2 = RandomForestRegressor(n_estimators = 1000)\n",
    "rand_forrest2.fit(all_data,y_train)\n"
   ]
  },
  {
   "cell_type": "code",
   "execution_count": null,
   "metadata": {},
   "outputs": [],
   "source": []
  },
  {
   "cell_type": "code",
   "execution_count": null,
   "metadata": {},
   "outputs": [],
   "source": []
  }
 ],
 "metadata": {
  "kernelspec": {
   "display_name": "Python 3",
   "language": "python",
   "name": "python3"
  },
  "language_info": {
   "codemirror_mode": {
    "name": "ipython",
    "version": 3
   },
   "file_extension": ".py",
   "mimetype": "text/x-python",
   "name": "python",
   "nbconvert_exporter": "python",
   "pygments_lexer": "ipython3",
   "version": "3.7.1"
  }
 },
 "nbformat": 4,
 "nbformat_minor": 2
}
